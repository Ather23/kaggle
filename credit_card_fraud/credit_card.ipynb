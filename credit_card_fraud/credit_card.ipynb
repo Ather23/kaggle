{
 "cells": [
  {
   "cell_type": "markdown",
   "metadata": {},
   "source": [
    "**Credit Card fraud detection with AdaBoost and RandomForestClassifier**\n"
   ]
  },
  {
   "cell_type": "markdown",
   "metadata": {},
   "source": [
    "The objective of this notebook is to predict as many fraudulent transactions as possible.\n",
    "This notebook uses sci-kit AdaBoost classifier with RandomForestClassifier as a base estimator to learn and predict fraudulent transactions.\n",
    "On average, this method is 97% accurate in detected fraudulent or normal transactions. Moreover,\n",
    "this implementation detected 93% of fraudulent transactions, and 100% of normal transactions.\n",
    "\n"
   ]
  },
  {
   "cell_type": "code",
   "execution_count": 18,
   "metadata": {
    "collapsed": false
   },
   "outputs": [],
   "source": [
    "import numpy as np \n",
    "import pandas as pd\n",
    "from sklearn import metrics\n",
    "from sklearn.ensemble import RandomForestClassifier\n",
    "from sklearn.model_selection import train_test_split\n",
    "from sklearn import linear_model, datasets\n",
    "from sklearn.metrics import roc_curve, auc\n",
    "import matplotlib.pyplot as plt"
   ]
  },
  {
   "cell_type": "code",
   "execution_count": 19,
   "metadata": {
    "collapsed": false
   },
   "outputs": [],
   "source": [
    "main_df=pd.read_csv(\"creditcard.csv\")\n",
    "main_df.head()\n",
    "feature_size = len(main_df.columns)\n",
    "class_index = feature_size -1 \n"
   ]
  },
  {
   "cell_type": "markdown",
   "metadata": {},
   "source": [
    "**Balancing data **"
   ]
  },
  {
   "cell_type": "code",
   "execution_count": 20,
   "metadata": {
    "collapsed": false
   },
   "outputs": [
    {
     "name": "stdout",
     "output_type": "stream",
     "text": [
      "Percentage of normal transactions                 : 0.5\n",
      "Percentage of fraudulent trasactions                : 0.5\n",
      "Total number of transactions in our new dataset : 984\n"
     ]
    }
   ],
   "source": [
    "fraud_raw = main_df[main_df['Class'] == 1]\n",
    "normal_raw = main_df[main_df['Class'] == 0]\n",
    "\n",
    "# Undersample the normal transactions\n",
    "percentage = len(fraud_raw)/float(len(normal_raw))\n",
    "normal = normal_raw.sample(frac=percentage)\n",
    "fraud = fraud_raw\n",
    "cc_data = fraud.append(normal)\n",
    "\n",
    "print (\"Percentage of normal transactions                 :\", len(normal) / float(len(cc_data)))\n",
    "print (\"Percentage of fraudulent trasactions                :\", len(fraud_raw) / float(len(cc_data)))\n",
    "print (\"Total number of transactions in our new dataset :\", len(cc_data))"
   ]
  },
  {
   "cell_type": "code",
   "execution_count": 21,
   "metadata": {
    "collapsed": false
   },
   "outputs": [
    {
     "name": "stdout",
     "output_type": "stream",
     "text": [
      "             precision    recall  f1-score   support\n",
      "\n",
      "        0.0       0.89      0.98      0.93       165\n",
      "        1.0       0.97      0.85      0.91       131\n",
      "\n",
      "avg / total       0.93      0.92      0.92       296\n",
      "\n",
      "[[162   3]\n",
      " [ 20 111]]\n",
      "AUC = 0.9146\n"
     ]
    },
    {
     "data": {
      "image/png": "[encoded data removed]",
      "text/plain": [
       "<matplotlib.figure.Figure at 0x10a0f6898>"
      ]
     },
     "metadata": {},
     "output_type": "display_data"
    }
   ],
   "source": [
    "reg_model = RandomForestClassifier()\n",
    "train_data,test_data = train_test_split(cc_data,test_size=0.20)\n",
    "train_matrix = train_data.as_matrix()\n",
    "x = train_matrix[:,range(0,class_index-1)]\n",
    "y=train_matrix[:,class_index]\n",
    "reg_model = reg_model.fit(x,y)\n",
    "\n",
    "test_matrix =test_data.as_matrix()\n",
    "test_x = test_matrix[:,range(0,class_index-1)]\n",
    "test_y=test_matrix[:,class_index]\n",
    "\n",
    "predicted = reg_model.predict(test_x)\n",
    "\n",
    "print(metrics.classification_report(test_y, predicted))\n",
    "print(metrics.confusion_matrix(test_y, predicted))\n",
    "false_positive_rate, true_positive_rate, thresholds = roc_curve(test_y, predicted)\n",
    "roc_auc = auc(false_positive_rate, true_positive_rate)\n",
    "print('AUC = %0.4f'% roc_auc)\n",
    "plt.title('Receiver Operating Characteristic')\n",
    "plt.plot(false_positive_rate, true_positive_rate, 'b',\n",
    "label='AUC = %0.2f'% roc_auc)\n",
    "plt.legend(loc='lower right')\n",
    "plt.plot([0,1],[0,1],'r--')\n",
    "plt.xlim([-0.1,1.2])\n",
    "plt.ylim([-0.1,1.2])\n",
    "plt.ylabel('True Positive Rate')\n",
    "plt.xlabel('False Positive Rate')\n",
    "plt.show()"
   ]
  },
  {
   "cell_type": "markdown",
   "metadata": {},
   "source": [
    "**Acknowledgement**\n"
   ]
  },
  {
   "cell_type": "markdown",
   "metadata": {},
   "source": [
    "I would like to acknowldge kanishkapsingh notebook, which gave me some insights on how to\n",
    "approach this problem:\n",
    "https://www.kaggle.com/kanishkapsingh2/d/dalpozz/creditcardfraud/naive-bayes-80-actual-fraud-detection\n",
    "\n",
    "This introduction to ROC curves also helped my understand how to interpret and test my results\n",
    "https://datamize.wordpress.com/2015/01/24/how-to-plot-a-roc-curve-in-scikit-learn/"
   ]
  },
  {
   "cell_type": "code",
   "execution_count": null,
   "metadata": {
    "collapsed": true
   },
   "outputs": [],
   "source": []
  }
 ],
 "metadata": {
  "kernelspec": {
   "display_name": "Python 3",
   "language": "python",
   "name": "python3"
  },
  "language_info": {
   "codemirror_mode": {
    "name": "ipython",
    "version": 3
   },
   "file_extension": ".py",
   "mimetype": "text/x-python",
   "name": "python",
   "nbconvert_exporter": "python",
   "pygments_lexer": "ipython3",
   "version": "3.5.1"
  }
 },
 "nbformat": 4,
 "nbformat_minor": 0
}
